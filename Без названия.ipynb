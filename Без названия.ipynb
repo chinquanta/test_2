{
 "cells": [
  {
   "cell_type": "code",
   "execution_count": 1,
   "id": "1dd3c679",
   "metadata": {},
   "outputs": [],
   "source": [
    "import csv"
   ]
  },
  {
   "cell_type": "code",
   "execution_count": 2,
   "id": "37fa2ccb",
   "metadata": {},
   "outputs": [],
   "source": [
    "with open('Corp_Summary.csv', 'r', newline='') as csvfile:\n",
    "    df = csv.reader(csvfile, delimiter=';')\n",
    "    db = list(df)\n",
    "    features_ix = {feature: db[0].index(feature) for feature in db[0]}\n",
    "    features = {feature: [row[ix] for row in db[1:]] for feature, ix in features_ix.items()}\n",
    "    features['Оклад'] = list(map(int,features['Оклад']))"
   ]
  },
  {
   "cell_type": "code",
   "execution_count": 3,
   "id": "06d8636a",
   "metadata": {},
   "outputs": [],
   "source": [
    "def menu(features):\n",
    "    print('Что нужно сделать:\\n')\n",
    "    print('Вывести в понятном виде иерархию команд,\\n т.е. департамент и все команды, которые входят в него -', 1, '\\n')\n",
    "    print('Вывести сводный отчёт по департаментам:\\n название, численность, \"вилка\" зарплат в виде мин – макс, среднюю зарплату -',2, '\\n')\n",
    "    print('Сохранить сводный отчёт из предыдущего пункта в виде csv-файла.\\n При этом необязательно вызывать сначала команду из п.2 -',3, '\\n')\n",
    "    print('Закончить - 4')\n",
    "    while True:\n",
    "        inp = input()\n",
    "        if inp == '1':\n",
    "            print('Выводим структуру:')\n",
    "            struct_depts(features)\n",
    "        elif inp == '2':\n",
    "            print('Получаем сводный отчет:')\n",
    "            struct_salary(features['Департамент'], inp)\n",
    "        elif inp == '3':\n",
    "            print('Записываем сводный отчет в файл')\n",
    "            struct_salary(features['Департамент'], inp)\n",
    "        elif inp == '4':\n",
    "            print('Завершаем работу')\n",
    "            return\n",
    "        else:\n",
    "            print('Выберите: 1, 2, 3 или 4')\n",
    "            "
   ]
  },
  {
   "cell_type": "code",
   "execution_count": 6,
   "id": "9f37ba2c",
   "metadata": {},
   "outputs": [
    {
     "name": "stdout",
     "output_type": "stream",
     "text": [
      "Что нужно сделать:\n",
      "\n",
      "Вывести в понятном виде иерархию команд,\n",
      " т.е. департамент и все команды, которые входят в него - 1 \n",
      "\n",
      "Вывести сводный отчёт по департаментам:\n",
      " название, численность, \"вилка\" зарплат в виде мин – макс, среднюю зарплату - 2 \n",
      "\n",
      "Сохранить сводный отчёт из предыдущего пункта в виде csv-файла.\n",
      " При этом необязательно вызывать сначала команду из п.2 - 3 \n",
      "\n",
      "Закончить - 4\n",
      "1\n",
      "Выводим структуру:\n",
      "Разработка\n",
      "    Платформа\n",
      "    Внутренний портал\n",
      "    Основной продукт\n",
      "Аналитика\n",
      "    DWH\n",
      "    Product\n",
      "Маркетинг\n",
      "    Direct\n",
      "    Performance\n",
      "Бухгалтерия\n",
      "    Зарплата\n",
      "    Компенсации и льготы\n",
      "Продажи\n",
      "    Госы\n",
      "    B2C\n",
      "    B2B\n",
      "2\n",
      "Получаем сводный отчет:\n",
      "Департ. числ-ть мин. ср.знач. макс.\n",
      "Разработка 47 56000 91891.48936170213 124900\n",
      "Аналитика 34 55200 89008.82352941176 122800\n",
      "Маркетинг 38 55500 94202.63157894737 124300\n",
      "Бухгалтерия 41 56100 92941.46341463414 124900\n",
      "Продажи 40 55700 89307.5 122100\n",
      "3\n",
      "5\n",
      "Выберите: 1, 2, 3 или 4\n",
      "1\n",
      "Выводим структуру:\n",
      "Разработка\n",
      "    Платформа\n",
      "    Внутренний портал\n",
      "    Основной продукт\n",
      "Аналитика\n",
      "    DWH\n",
      "    Product\n",
      "Маркетинг\n",
      "    Direct\n",
      "    Performance\n",
      "Бухгалтерия\n",
      "    Зарплата\n",
      "    Компенсации и льготы\n",
      "Продажи\n",
      "    Госы\n",
      "    B2C\n",
      "    B2B\n",
      "2\n",
      "Получаем сводный отчет:\n",
      "Департ. числ-ть мин. ср.знач. макс.\n",
      "Разработка 47 56000 91891.48936170213 124900\n",
      "Аналитика 34 55200 89008.82352941176 122800\n",
      "Маркетинг 38 55500 94202.63157894737 124300\n",
      "Бухгалтерия 41 56100 92941.46341463414 124900\n",
      "Продажи 40 55700 89307.5 122100\n",
      "3\n",
      "4\n"
     ]
    }
   ],
   "source": [
    "menu(features)"
   ]
  },
  {
   "cell_type": "code",
   "execution_count": 4,
   "id": "60cfd87b",
   "metadata": {},
   "outputs": [],
   "source": [
    "def struct_depts(depts):\n",
    "    set_depts = set(features['Департамент'])\n",
    "    set_pairs = set(zip(features['Департамент'], features['Отдел']))\n",
    "    dict_struct = dict()\n",
    "    for dept in set_depts: \n",
    "        print(dept)\n",
    "        flr = filter(lambda x: x[0]==dept, set_pairs)\n",
    "        dict_struct[dept] = [item[1] for item in flr]\n",
    "        [print('    ' + x) for x in dict_struct[dept]]\n",
    "    return"
   ]
  },
  {
   "cell_type": "code",
   "execution_count": 5,
   "id": "42f76950",
   "metadata": {},
   "outputs": [],
   "source": [
    "def struct_salary(depts, key):\n",
    "    set_depts = set(features['Департамент'])\n",
    "    list_pairs = list(zip(features['Департамент'], features['Оклад']))\n",
    "    dict_struct = dict()\n",
    "    for dept in set_depts:   \n",
    "        flr = filter(lambda x: x[0]==dept, list_pairs)\n",
    "        dict_struct[dept] = [item[1] for item in flr]\n",
    "        dict_struct[dept] = [len(dict_struct[dept]), min(dict_struct[dept]),\n",
    "                            sum(dict_struct[dept])/len(dict_struct[dept]),\n",
    "                            max(dict_struct[dept])]\n",
    "    if key == '3':\n",
    "        with open('result.csv', 'w', newline='') as csvfile:\n",
    "            writer = csv.writer(csvfile, delimiter=',')\n",
    "            writer.writerow(['Департ.','числ-ть','мин.','ср.знач.','макс.'])\n",
    "            for dept in set_depts:\n",
    "                writer.writerow([dept] + dict_struct[dept])\n",
    "    if key == '2':\n",
    "        print('Департ.','числ-ть','мин.','ср.знач.','макс.')\n",
    "        for dept in set_depts:\n",
    "            print(dept, *dict_struct[dept])\n",
    "    return "
   ]
  },
  {
   "cell_type": "code",
   "execution_count": null,
   "id": "b71c7b28",
   "metadata": {},
   "outputs": [],
   "source": []
  }
 ],
 "metadata": {
  "kernelspec": {
   "display_name": "Python 3 (ipykernel)",
   "language": "python",
   "name": "python3"
  },
  "language_info": {
   "codemirror_mode": {
    "name": "ipython",
    "version": 3
   },
   "file_extension": ".py",
   "mimetype": "text/x-python",
   "name": "python",
   "nbconvert_exporter": "python",
   "pygments_lexer": "ipython3",
   "version": "3.9.7"
  }
 },
 "nbformat": 4,
 "nbformat_minor": 5
}
